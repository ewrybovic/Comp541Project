{
 "cells": [
  {
   "cell_type": "code",
   "execution_count": 11,
   "metadata": {},
   "outputs": [],
   "source": [
    "# Importing data here\n",
    "import pandas\n",
    "\n",
    "# Note: to read this file you have to extract the zip first\n",
    "big_data = pandas.read_csv('data/usa-real-estate-dataset.zip')\n",
    "small_data = pandas.read_csv('data/realtor-real-estate-usa.csv')\n",
    "\n",
    "#print(small_data)\n",
    "#print(big_data)"
   ]
  },
  {
   "cell_type": "code",
   "execution_count": null,
   "metadata": {},
   "outputs": [],
   "source": [
    "# Data merging here\n",
    "# Concatenate the datasets\n",
    "merged_data = pandas.concat([big_data, small_data], ignore_index=True)\n",
    "\n",
    "# Save the merged data to a CSV file\n",
    "merged_data.to_csv('data/merged_real_estate_data.csv', index=False)\n",
    "\n",
    "print(merged_data)\n"
   ]
  },
  {
   "cell_type": "code",
   "execution_count": null,
   "metadata": {},
   "outputs": [],
   "source": [
    "# Data clean up here, done by Evan Rybovic\n",
    "importantCols = ['price', 'bed', 'bath', 'acre_lot', 'city', 'state', 'house_size']\n",
    "print(f'Size before cleaning: {merged_data.shape}')\n",
    "\n",
    "# Droping rows that have empty values in any of the important columns defined above\n",
    "merged_data = big_data.dropna(subset=importantCols)\n",
    "print(f'Size after cleaning: {merged_data.shape}')\n",
    "\n",
    "print(merged_data)"
   ]
  },
  {
   "cell_type": "code",
   "execution_count": null,
   "metadata": {},
   "outputs": [],
   "source": [
    "# Data Vizualization here by Evan Rybovic\n",
    "import matplotlib.pyplot as plt\n",
    "import seaborn as sns\n",
    "\n",
    "# Scatter plot, $ of Bed vs Price\n",
    "plt.figure(figsize=(10,6))\n",
    "plt.scatter(merged_data['price'], merged_data['bed'])\n",
    "plt.title('Bed vs Price')\n",
    "plt.xlabel('Price')\n",
    "plt.ylabel('# of Bedrooms')\n",
    "plt.show()\n",
    "\n",
    "# Bar plot Location vs Price\n",
    "ordered_states = sorted(merged_data['state'].unique())\n",
    "plt.figure(figsize=(50,6))\n",
    "sns.boxplot(x='state',y='price', data=merged_data, order=ordered_states)\n",
    "plt.title('State vs Price')\n",
    "plt.xlabel('State')\n",
    "plt.ylabel('Price')\n",
    "plt.xticks(rotation=45)\n",
    "plt.show()\n",
    "\n",
    "# Average price per bedroom in Delaware\n",
    "delware_prices = merged_data[merged_data['state'] == 'Delaware']\n",
    "avg_price = delware_prices.groupby('bed')['price'].mean().reset_index()\n",
    "plt.figure(figsize=(10,6))\n",
    "sns.barplot(x='bed', y='price', data=avg_price)\n",
    "plt.title('Avg price in Delaware per bedrooms in house')\n",
    "plt.xlabel('Number of bedrooms')\n",
    "plt.ylabel('Average Price')\n",
    "plt.show()\n",
    "\n",
    "# Average price per bedroom in California\n",
    "california_prices = merged_data[merged_data['state'] == 'California']\n",
    "avg_price = california_prices.groupby('bed')['price'].mean().reset_index()\n",
    "plt.figure(figsize=(10,6))\n",
    "sns.barplot(x='bed', y='price', data=avg_price)\n",
    "plt.title('Avg price in California per bedrooms in house')\n",
    "plt.xlabel('Number of bedrooms')\n",
    "plt.ylabel('Average Price')\n",
    "plt.show()\n",
    "\n",
    "# Comparing average price of all two bedroom houses based off state\n",
    "two_bed_houses = merged_data[merged_data['bed'] == 2]\n",
    "avg_by_state = two_bed_houses.groupby('state')['price'].mean().reset_index()\n",
    "plt.figure(figsize=(50,6))\n",
    "sns.barplot(x='state', y='price', data=avg_by_state)\n",
    "plt.title('Avg price of a two bedroom house in all 50 states')\n",
    "plt.xlabel('State')\n",
    "plt.ylabel('Average Price')\n",
    "plt.xticks(rotation=45)\n",
    "plt.show()\n"
   ]
  },
  {
   "cell_type": "code",
   "execution_count": null,
   "metadata": {},
   "outputs": [],
   "source": [
    "# Clustering"
   ]
  },
  {
   "cell_type": "code",
   "execution_count": null,
   "metadata": {},
   "outputs": [],
   "source": [
    "# Regression"
   ]
  }
 ],
 "metadata": {
  "kernelspec": {
   "display_name": "base",
   "language": "python",
   "name": "python3"
  },
  "language_info": {
   "codemirror_mode": {
    "name": "ipython",
    "version": 3
   },
   "file_extension": ".py",
   "mimetype": "text/x-python",
   "name": "python",
   "nbconvert_exporter": "python",
   "pygments_lexer": "ipython3",
   "version": "3.12.4"
  }
 },
 "nbformat": 4,
 "nbformat_minor": 2
}
