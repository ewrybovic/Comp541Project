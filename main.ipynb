{
 "cells": [
  {
   "cell_type": "code",
   "execution_count": 1,
   "metadata": {},
   "outputs": [
    {
     "name": "stdout",
     "output_type": "stream",
     "text": [
      "          status  bed  bath  acre_lot           city        state  zip_code  \\\n",
      "0       for_sale  3.0   2.0      0.12       Adjuntas  Puerto Rico     601.0   \n",
      "1       for_sale  4.0   2.0      0.08       Adjuntas  Puerto Rico     601.0   \n",
      "2       for_sale  2.0   1.0      0.15     Juana Diaz  Puerto Rico     795.0   \n",
      "3       for_sale  4.0   2.0      0.10          Ponce  Puerto Rico     731.0   \n",
      "4       for_sale  6.0   2.0      0.05       Mayaguez  Puerto Rico     680.0   \n",
      "...          ...  ...   ...       ...            ...          ...       ...   \n",
      "110096  for_sale  2.0   2.0       NaN  New York City     New York   10463.0   \n",
      "110097  for_sale  2.0   2.0       NaN  New York City     New York   10463.0   \n",
      "110098  for_sale  2.0   2.0       NaN          Bronx     New York   10463.0   \n",
      "110099  for_sale  NaN   1.0       NaN          Bronx     New York   10463.0   \n",
      "110100  for_sale  3.0   2.0       NaN          Bronx     New York   10463.0   \n",
      "\n",
      "        house_size prev_sold_date     price  \n",
      "0            920.0            NaN  105000.0  \n",
      "1           1527.0            NaN   80000.0  \n",
      "2            748.0            NaN   67000.0  \n",
      "3           1800.0            NaN  145000.0  \n",
      "4              NaN            NaN   65000.0  \n",
      "...            ...            ...       ...  \n",
      "110096      1200.0     16-08-2021  399000.0  \n",
      "110097         NaN     13-08-2021  359000.0  \n",
      "110098      1200.0            NaN  299000.0  \n",
      "110099         NaN            NaN  120000.0  \n",
      "110100         NaN            NaN  449000.0  \n",
      "\n",
      "[110101 rows x 10 columns]\n"
     ]
    }
   ],
   "source": [
    "# Importing data here\n",
    "import pandas\n",
    "\n",
    "# Note: to read this file you have to extract the zip first\n",
    "big_data = pandas.read_csv('data\\\\usa-real-estate-dataset.csv')\n",
    "small_data = pandas.read_csv('data\\\\realtor-real-estate-usa.csv')\n",
    "\n",
    "print(small_data)"
   ]
  },
  {
   "cell_type": "code",
   "execution_count": null,
   "metadata": {},
   "outputs": [],
   "source": [
    "# Data merging here"
   ]
  },
  {
   "cell_type": "code",
   "execution_count": null,
   "metadata": {},
   "outputs": [],
   "source": [
    "# Data clean up here"
   ]
  },
  {
   "cell_type": "code",
   "execution_count": null,
   "metadata": {},
   "outputs": [],
   "source": [
    "# Clustering"
   ]
  },
  {
   "cell_type": "code",
   "execution_count": null,
   "metadata": {},
   "outputs": [],
   "source": [
    "# Regression"
   ]
  }
 ],
 "metadata": {
  "kernelspec": {
   "display_name": "base",
   "language": "python",
   "name": "python3"
  },
  "language_info": {
   "codemirror_mode": {
    "name": "ipython",
    "version": 3
   },
   "file_extension": ".py",
   "mimetype": "text/x-python",
   "name": "python",
   "nbconvert_exporter": "python",
   "pygments_lexer": "ipython3",
   "version": "3.12.4"
  }
 },
 "nbformat": 4,
 "nbformat_minor": 2
}
