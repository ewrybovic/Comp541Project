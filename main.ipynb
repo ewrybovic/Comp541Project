{
 "cells": [
  {
   "cell_type": "code",
   "execution_count": 11,
   "metadata": {},
   "outputs": [
    {
     "name": "stdout",
     "output_type": "stream",
     "text": [
      "          status  bed  bath  acre_lot           city        state  zip_code  \\\n",
      "0       for_sale  3.0   2.0      0.12       Adjuntas  Puerto Rico     601.0   \n",
      "1       for_sale  4.0   2.0      0.08       Adjuntas  Puerto Rico     601.0   \n",
      "2       for_sale  2.0   1.0      0.15     Juana Diaz  Puerto Rico     795.0   \n",
      "3       for_sale  4.0   2.0      0.10          Ponce  Puerto Rico     731.0   \n",
      "4       for_sale  6.0   2.0      0.05       Mayaguez  Puerto Rico     680.0   \n",
      "...          ...  ...   ...       ...            ...          ...       ...   \n",
      "110096  for_sale  2.0   2.0       NaN  New York City     New York   10463.0   \n",
      "110097  for_sale  2.0   2.0       NaN  New York City     New York   10463.0   \n",
      "110098  for_sale  2.0   2.0       NaN          Bronx     New York   10463.0   \n",
      "110099  for_sale  NaN   1.0       NaN          Bronx     New York   10463.0   \n",
      "110100  for_sale  3.0   2.0       NaN          Bronx     New York   10463.0   \n",
      "\n",
      "        house_size prev_sold_date     price  \n",
      "0            920.0            NaN  105000.0  \n",
      "1           1527.0            NaN   80000.0  \n",
      "2            748.0            NaN   67000.0  \n",
      "3           1800.0            NaN  145000.0  \n",
      "4              NaN            NaN   65000.0  \n",
      "...            ...            ...       ...  \n",
      "110096      1200.0     16-08-2021  399000.0  \n",
      "110097         NaN     13-08-2021  359000.0  \n",
      "110098      1200.0            NaN  299000.0  \n",
      "110099         NaN            NaN  120000.0  \n",
      "110100         NaN            NaN  449000.0  \n",
      "\n",
      "[110101 rows x 10 columns]\n",
      "         brokered_by    status     price  bed  bath  acre_lot     street  \\\n",
      "0           103378.0  for_sale  105000.0  3.0   2.0      0.12  1962661.0   \n",
      "1            52707.0  for_sale   80000.0  4.0   2.0      0.08  1902874.0   \n",
      "2           103379.0  for_sale   67000.0  2.0   1.0      0.15  1404990.0   \n",
      "3            31239.0  for_sale  145000.0  4.0   2.0      0.10  1947675.0   \n",
      "4            34632.0  for_sale   65000.0  6.0   2.0      0.05   331151.0   \n",
      "...              ...       ...       ...  ...   ...       ...        ...   \n",
      "2226377      23009.0      sold  359900.0  4.0   2.0      0.33   353094.0   \n",
      "2226378      18208.0      sold  350000.0  3.0   2.0      0.10  1062149.0   \n",
      "2226379      76856.0      sold  440000.0  6.0   3.0      0.50   405677.0   \n",
      "2226380      53618.0      sold  179900.0  2.0   1.0      0.09   761379.0   \n",
      "2226381     108243.0      sold  580000.0  5.0   3.0      0.31   307704.0   \n",
      "\n",
      "               city        state  zip_code  house_size prev_sold_date  \n",
      "0          Adjuntas  Puerto Rico     601.0       920.0            NaN  \n",
      "1          Adjuntas  Puerto Rico     601.0      1527.0            NaN  \n",
      "2        Juana Diaz  Puerto Rico     795.0       748.0            NaN  \n",
      "3             Ponce  Puerto Rico     731.0      1800.0            NaN  \n",
      "4          Mayaguez  Puerto Rico     680.0         NaN            NaN  \n",
      "...             ...          ...       ...         ...            ...  \n",
      "2226377    Richland   Washington   99354.0      3600.0     2022-03-25  \n",
      "2226378    Richland   Washington   99354.0      1616.0     2022-03-25  \n",
      "2226379    Richland   Washington   99354.0      3200.0     2022-03-24  \n",
      "2226380    Richland   Washington   99354.0       933.0     2022-03-24  \n",
      "2226381    Richland   Washington   99354.0      3615.0     2022-03-23  \n",
      "\n",
      "[2226382 rows x 12 columns]\n"
     ]
    }
   ],
   "source": [
    "# Importing data here\n",
    "import pandas\n",
    "\n",
    "# Note: to read this file you have to extract the zip first\n",
    "big_data = pandas.read_csv('data/usa-real-estate-dataset.zip')\n",
    "small_data = pandas.read_csv('data/realtor-real-estate-usa.csv')\n",
    "\n",
    "print(small_data)\n",
    "print(big_data)"
   ]
  },
  {
   "cell_type": "code",
   "execution_count": 12,
   "metadata": {},
   "outputs": [
    {
     "name": "stdout",
     "output_type": "stream",
     "text": [
      "         brokered_by    status     price  bed  bath  acre_lot     street  \\\n",
      "0           103378.0  for_sale  105000.0  3.0   2.0      0.12  1962661.0   \n",
      "1            52707.0  for_sale   80000.0  4.0   2.0      0.08  1902874.0   \n",
      "2           103379.0  for_sale   67000.0  2.0   1.0      0.15  1404990.0   \n",
      "3            31239.0  for_sale  145000.0  4.0   2.0      0.10  1947675.0   \n",
      "4            34632.0  for_sale   65000.0  6.0   2.0      0.05   331151.0   \n",
      "...              ...       ...       ...  ...   ...       ...        ...   \n",
      "2336478          NaN  for_sale  399000.0  2.0   2.0       NaN        NaN   \n",
      "2336479          NaN  for_sale  359000.0  2.0   2.0       NaN        NaN   \n",
      "2336480          NaN  for_sale  299000.0  2.0   2.0       NaN        NaN   \n",
      "2336481          NaN  for_sale  120000.0  NaN   1.0       NaN        NaN   \n",
      "2336482          NaN  for_sale  449000.0  3.0   2.0       NaN        NaN   \n",
      "\n",
      "                  city        state  zip_code  house_size prev_sold_date  \n",
      "0             Adjuntas  Puerto Rico     601.0       920.0            NaN  \n",
      "1             Adjuntas  Puerto Rico     601.0      1527.0            NaN  \n",
      "2           Juana Diaz  Puerto Rico     795.0       748.0            NaN  \n",
      "3                Ponce  Puerto Rico     731.0      1800.0            NaN  \n",
      "4             Mayaguez  Puerto Rico     680.0         NaN            NaN  \n",
      "...                ...          ...       ...         ...            ...  \n",
      "2336478  New York City     New York   10463.0      1200.0     16-08-2021  \n",
      "2336479  New York City     New York   10463.0         NaN     13-08-2021  \n",
      "2336480          Bronx     New York   10463.0      1200.0            NaN  \n",
      "2336481          Bronx     New York   10463.0         NaN            NaN  \n",
      "2336482          Bronx     New York   10463.0         NaN            NaN  \n",
      "\n",
      "[2336483 rows x 12 columns]\n"
     ]
    }
   ],
   "source": [
    "# Data merging here\n",
    "# Concatenate the datasets\n",
    "merged_data = pandas.concat([big_data, small_data], ignore_index=True)\n",
    "\n",
    "# Save the merged data to a CSV file\n",
    "merged_data.to_csv('data/merged_real_estate_data.csv', index=False)\n",
    "\n",
    "print(merged_data)"
   ]
  },
  {
   "cell_type": "code",
   "execution_count": null,
   "metadata": {},
   "outputs": [],
   "source": [
    "# Data clean up here, done by Evan Rybovic\n",
    "importantCols = ['price', 'bed', 'bath', 'acre_lot', 'city', 'state', 'house_size']\n",
    "print(f'Size before cleaning: {big_data.shape}')\n",
    "\n",
    "# Droping rows that have empty values in any of the important columns defined above\n",
    "big_data = big_data.dropna(subset=importantCols)# TODO change big_data to the merged data\n",
    "print(f'Size after cleaning: {big_data.shape}')"
   ]
  },
  {
   "cell_type": "code",
   "execution_count": null,
   "metadata": {},
   "outputs": [],
   "source": [
    "# Clustering"
   ]
  },
  {
   "cell_type": "code",
   "execution_count": null,
   "metadata": {},
   "outputs": [],
   "source": [
    "# Regression"
   ]
  }
 ],
 "metadata": {
  "kernelspec": {
   "display_name": "base",
   "language": "python",
   "name": "python3"
  },
  "language_info": {
   "codemirror_mode": {
    "name": "ipython",
    "version": 3
   },
   "file_extension": ".py",
   "mimetype": "text/x-python",
   "name": "python",
   "nbconvert_exporter": "python",
   "pygments_lexer": "ipython3",
   "version": "3.12.5"
  }
 },
 "nbformat": 4,
 "nbformat_minor": 2
}
