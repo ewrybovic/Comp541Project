{
 "cells": [
  {
   "cell_type": "code",
   "execution_count": 18,
   "metadata": {},
   "outputs": [],
   "source": [
    "# Importing data here\n",
    "import pandas\n",
    "\n",
    "# Note: to read this file you have to extract the zip first\n",
    "big_data = pandas.read_csv('data/usa-real-estate-dataset.zip')\n",
    "small_data = pandas.read_csv('data/realtor-real-estate-usa.csv')\n",
    "\n",
    "#print(small_data)\n",
    "#print(big_data)"
   ]
  },
  {
   "cell_type": "code",
   "execution_count": null,
   "metadata": {},
   "outputs": [],
   "source": [
    "# Data merging here by Zach\n",
    "# Specify the columns to merge on\n",
    "common_columns = ['status', 'bed', 'bath', 'acre_lot', 'city', 'state', 'price', 'house_size']\n",
    "\n",
    "# Merge the datasets based on the common columns using an inner join\n",
    "merged_data = pandas.merge(big_data, small_data, on=common_columns, how='outer')\n",
    "\n",
    "# Remove rows where status is 'sold'\n",
    "merged_data = merged_data.loc[merged_data['status'] != 'sold']\n",
    "\n",
    "# Drop columns that aren't in both csvs\n",
    "merged_data = merged_data.drop(columns=['status'])\n",
    "merged_data = merged_data.drop(columns=['brokered_by'])\n",
    "merged_data = merged_data.drop(columns=['prev_sold_date_x'])\n",
    "merged_data = merged_data.drop(columns=['zip_code_x'])\n",
    "merged_data = merged_data.drop(columns=['zip_code_y'])\n",
    "merged_data = merged_data.drop(columns=['prev_sold_date_y'])\n",
    "\n",
    "# Save the cleaned and merged data to a CSV file\n",
    "merged_data.to_csv('data/merged_real_estate_data.csv', index=False)\n",
    "\n",
    "# Output the shape to see how many rows and columns remain after the operations\n",
    "print(f\"Merged data shape after removing sold houses and dropping 'status': {merged_data.shape}\")\n",
    "print(merged_data)\n"
   ]
  },
  {
   "cell_type": "code",
   "execution_count": null,
   "metadata": {},
   "outputs": [],
   "source": [
    "# Data clean up here, done by Zach\n",
    "importantCols = ['price', 'bed', 'bath', 'acre_lot', 'city', 'state', 'house_size']\n",
    "print(f'Size before cleaning: {merged_data.shape}')\n",
    "\n",
    "# Droping rows that have empty values in any of the important columns defined above\n",
    "merged_data = merged_data.dropna(subset=importantCols)\n",
    "\n",
    "# List of locations we want to drop\n",
    "drop_locations = ['Virgin Islands', 'Puerto Rico', 'Guam']\n",
    "\n",
    "# Filter the merged data to include only rows where 'state' is a valid U.S. state\n",
    "merged_data = merged_data[~merged_data['state'].isin(drop_locations)]\n",
    "\n",
    "# Filter out rows where 'bed' is greater than or equal to 6 and the price is less then or equal to 10000000\n",
    "merged_data = merged_data[merged_data['bed'] <= 6]\n",
    "merged_data = merged_data[merged_data['price'] <= 10000000]\n",
    "merged_data.to_csv('data/merged_real_estate_data.csv', index=False)\n",
    "print(f'Size after cleaning: {merged_data.shape}')"
   ]
  },
  {
   "cell_type": "code",
   "execution_count": null,
   "metadata": {},
   "outputs": [],
   "source": [
    "# Data Vizualization here by Evan Rybovic\n",
    "import matplotlib.pyplot as plt\n",
    "import seaborn as sns\n",
    "\n",
    "# Scatter plot, $ of Bed vs Price\n",
    "plt.figure(figsize=(10,6))\n",
    "plt.scatter(merged_data['price'], merged_data['bed'])\n",
    "plt.title('Bed vs Price')\n",
    "plt.xlabel('Price')\n",
    "plt.ylabel('# of Bedrooms')\n",
    "plt.savefig(\"BedvsPrice.png\")\n",
    "plt.show()\n",
    "\n",
    "# Bar plot Location vs Price\n",
    "ordered_states = sorted(merged_data['state'].unique())\n",
    "plt.figure(figsize=(50,6))\n",
    "sns.boxplot(x='state',y='price', data=merged_data, order=ordered_states)\n",
    "plt.title('State vs Price')\n",
    "plt.xlabel('State')\n",
    "plt.ylabel('Price')\n",
    "plt.xticks(rotation=45)\n",
    "plt.savefig(\"StatevsPrice.png\")\n",
    "plt.show()\n",
    "\n",
    "# Average price per bedroom in Delaware\n",
    "delware_prices = merged_data[merged_data['state'] == 'Delaware']\n",
    "avg_price = delware_prices.groupby('bed')['price'].mean().reset_index()\n",
    "plt.figure(figsize=(10,6))\n",
    "sns.barplot(x='bed', y='price', data=avg_price)\n",
    "plt.title('Avg house price in Delaware per number of bedrooms')\n",
    "plt.xlabel('Number of bedrooms')\n",
    "plt.ylabel('Average Price')\n",
    "plt.savefig(\"DelPricePerRoom.png\")\n",
    "plt.show()\n",
    "\n",
    "# Average price per bedroom in California\n",
    "california_prices = merged_data[merged_data['state'] == 'California']\n",
    "avg_price = california_prices.groupby('bed')['price'].mean().reset_index()\n",
    "plt.figure(figsize=(10,6))\n",
    "sns.barplot(x='bed', y='price', data=avg_price)\n",
    "plt.title('Avg price in California per bedrooms in house')\n",
    "plt.xlabel('Number of bedrooms')\n",
    "plt.ylabel('Average Price')\n",
    "plt.savefig(\"CaliAvgPricePerRoom.png\")\n",
    "plt.show()\n",
    "\n",
    "# Comparing average price of all two bedroom houses based off state\n",
    "two_bed_houses = merged_data[merged_data['bed'] == 2]\n",
    "avg_by_state = two_bed_houses.groupby('state')['price'].mean().reset_index()\n",
    "plt.figure(figsize=(50,6))\n",
    "sns.barplot(x='state', y='price', data=avg_by_state)\n",
    "plt.title('Avg price of a two bedroom house in all 50 states')\n",
    "plt.xlabel('State')\n",
    "plt.ylabel('Average Price')\n",
    "plt.xticks(rotation=45)\n",
    "plt.savefig(\"AvgPriceForTwoBedPerState.png\")\n",
    "plt.show()\n"
   ]
  },
  {
   "cell_type": "code",
   "execution_count": null,
   "metadata": {},
   "outputs": [],
   "source": [
    "# Clustering"
   ]
  },
  {
   "cell_type": "code",
   "execution_count": null,
   "metadata": {},
   "outputs": [],
   "source": [
    "# Regression"
   ]
  }
 ],
 "metadata": {
  "kernelspec": {
   "display_name": "base",
   "language": "python",
   "name": "python3"
  },
  "language_info": {
   "codemirror_mode": {
    "name": "ipython",
    "version": 3
   },
   "file_extension": ".py",
   "mimetype": "text/x-python",
   "name": "python",
   "nbconvert_exporter": "python",
   "pygments_lexer": "ipython3",
   "version": "3.12.4"
  }
 },
 "nbformat": 4,
 "nbformat_minor": 2
}
