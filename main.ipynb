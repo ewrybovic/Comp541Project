{
 "cells": [
  {
   "cell_type": "code",
   "execution_count": 4,
   "metadata": {},
   "outputs": [],
   "source": [
    "# Importing data here\n",
    "import pandas\n",
    "\n",
    "# Note: to read this file you have to extract the zip first\n",
    "big_data = pandas.read_csv('data/usa-real-estate-dataset.zip')\n",
    "small_data = pandas.read_csv('data/realtor-real-estate-usa.csv')\n",
    "\n",
    "#print(small_data)\n",
    "#print(big_data)"
   ]
  },
  {
   "cell_type": "code",
   "execution_count": 3,
   "metadata": {},
   "outputs": [],
   "source": [
    "# Data merging here\n",
    "# Concatenate the datasets\n",
    "merged_data = pandas.concat([big_data, small_data], ignore_index=True)\n",
    "\n",
    "# Save the merged data to a CSV file\n",
    "merged_data.to_csv('data/merged_real_estate_data.csv', index=False)\n",
    "\n"
   ]
  },
  {
   "cell_type": "code",
   "execution_count": null,
   "metadata": {},
   "outputs": [],
   "source": [
    "# Data clean up here, done by Evan Rybovic\n",
    "importantCols = ['price', 'bed', 'bath', 'acre_lot', 'city', 'state', 'house_size']\n",
    "print(f'Size before cleaning: {merged_data.shape}')\n",
    "\n",
    "# Droping rows that have empty values in any of the important columns defined above\n",
    "merged_data = merged_data.dropna(subset=importantCols)\n",
    "print(f'Size after cleaning: {merged_data.shape}')"
   ]
  },
  {
   "cell_type": "code",
   "execution_count": null,
   "metadata": {},
   "outputs": [],
   "source": [
    "# Clustering"
   ]
  },
  {
   "cell_type": "code",
   "execution_count": null,
   "metadata": {},
   "outputs": [],
   "source": [
    "# Regression"
   ]
  }
 ],
 "metadata": {
  "kernelspec": {
   "display_name": "base",
   "language": "python",
   "name": "python3"
  },
  "language_info": {
   "codemirror_mode": {
    "name": "ipython",
    "version": 3
   },
   "file_extension": ".py",
   "mimetype": "text/x-python",
   "name": "python",
   "nbconvert_exporter": "python",
   "pygments_lexer": "ipython3",
   "version": "3.12.5"
  }
 },
 "nbformat": 4,
 "nbformat_minor": 2
}
